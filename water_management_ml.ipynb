{
 "cells": [
  {
   "cell_type": "code",
   "execution_count": null,
   "id": "a882faec-1839-4d8f-9fd4-7e33e8aa3524",
   "metadata": {},
   "outputs": [],
   "source": []
  }
 ],
 "metadata": {
  "kernelspec": {
   "display_name": "",
   "name": ""
  },
  "language_info": {
   "name": ""
  }
 },
 "nbformat": 4,
 "nbformat_minor": 5
}
